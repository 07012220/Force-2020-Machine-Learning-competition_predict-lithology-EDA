{
 "cells": [
  {
   "cell_type": "code",
   "execution_count": 1,
   "metadata": {},
   "outputs": [],
   "source": [
    "import numpy as np\n",
    "import pandas as pd\n",
    "from striplog import Legend\n",
    "import missingno as msno\n",
    "import welly\n",
    "import matplotlib.pyplot as plt"
   ]
  },
  {
   "cell_type": "markdown",
   "metadata": {},
   "source": [
    "### Load training data (from the starter notebook)"
   ]
  },
  {
   "cell_type": "code",
   "execution_count": 2,
   "metadata": {},
   "outputs": [],
   "source": [
    "# this bit thanks to Brendon Hall\n",
    "s3_train_csv = 's3://zarr-depot/wells/FORCE: Machine Predicted Lithology/train.csv'\n",
    "data = pd.read_csv(s3_train_csv, sep=';')"
   ]
  },
  {
   "cell_type": "code",
   "execution_count": 3,
   "metadata": {},
   "outputs": [
    {
     "data": {
      "text/html": [
       "<div>\n",
       "<style scoped>\n",
       "    .dataframe tbody tr th:only-of-type {\n",
       "        vertical-align: middle;\n",
       "    }\n",
       "\n",
       "    .dataframe tbody tr th {\n",
       "        vertical-align: top;\n",
       "    }\n",
       "\n",
       "    .dataframe thead th {\n",
       "        text-align: right;\n",
       "    }\n",
       "</style>\n",
       "<table border=\"1\" class=\"dataframe\">\n",
       "  <thead>\n",
       "    <tr style=\"text-align: right;\">\n",
       "      <th></th>\n",
       "      <th>WELL</th>\n",
       "      <th>DEPTH_MD</th>\n",
       "      <th>X_LOC</th>\n",
       "      <th>Y_LOC</th>\n",
       "      <th>Z_LOC</th>\n",
       "      <th>GROUP</th>\n",
       "      <th>FORMATION</th>\n",
       "      <th>CALI</th>\n",
       "      <th>RSHA</th>\n",
       "      <th>RMED</th>\n",
       "      <th>...</th>\n",
       "      <th>ROP</th>\n",
       "      <th>DTS</th>\n",
       "      <th>DCAL</th>\n",
       "      <th>DRHO</th>\n",
       "      <th>MUDWEIGHT</th>\n",
       "      <th>RMIC</th>\n",
       "      <th>ROPA</th>\n",
       "      <th>RXO</th>\n",
       "      <th>FORCE_2020_LITHOFACIES_LITHOLOGY</th>\n",
       "      <th>FORCE_2020_LITHOFACIES_CONFIDENCE</th>\n",
       "    </tr>\n",
       "  </thead>\n",
       "  <tbody>\n",
       "    <tr>\n",
       "      <th>555305</th>\n",
       "      <td>31/2-19 S</td>\n",
       "      <td>2698.102400</td>\n",
       "      <td>519579.28125</td>\n",
       "      <td>6753284.5</td>\n",
       "      <td>-2457.643555</td>\n",
       "      <td>VIKING GP.</td>\n",
       "      <td>Draupne Fm.</td>\n",
       "      <td>12.739751</td>\n",
       "      <td>0.847380</td>\n",
       "      <td>3.625161</td>\n",
       "      <td>...</td>\n",
       "      <td>NaN</td>\n",
       "      <td>205.513138</td>\n",
       "      <td>0.489751</td>\n",
       "      <td>-0.011968</td>\n",
       "      <td>NaN</td>\n",
       "      <td>0.622637</td>\n",
       "      <td>NaN</td>\n",
       "      <td>0.613732</td>\n",
       "      <td>65000</td>\n",
       "      <td>1.0</td>\n",
       "    </tr>\n",
       "    <tr>\n",
       "      <th>868964</th>\n",
       "      <td>34/2-4</td>\n",
       "      <td>3682.593436</td>\n",
       "      <td>482053.93750</td>\n",
       "      <td>6847156.0</td>\n",
       "      <td>-3648.908936</td>\n",
       "      <td>DUNLIN GP.</td>\n",
       "      <td>Drake Fm.</td>\n",
       "      <td>9.391000</td>\n",
       "      <td>4.524775</td>\n",
       "      <td>3.680643</td>\n",
       "      <td>...</td>\n",
       "      <td>NaN</td>\n",
       "      <td>NaN</td>\n",
       "      <td>NaN</td>\n",
       "      <td>-0.023005</td>\n",
       "      <td>NaN</td>\n",
       "      <td>NaN</td>\n",
       "      <td>NaN</td>\n",
       "      <td>NaN</td>\n",
       "      <td>65000</td>\n",
       "      <td>1.0</td>\n",
       "    </tr>\n",
       "    <tr>\n",
       "      <th>475012</th>\n",
       "      <td>29/6-1</td>\n",
       "      <td>2203.561001</td>\n",
       "      <td>444579.56250</td>\n",
       "      <td>6711930.0</td>\n",
       "      <td>-2178.372559</td>\n",
       "      <td>ROGALAND GP.</td>\n",
       "      <td>Lista Fm.</td>\n",
       "      <td>17.369965</td>\n",
       "      <td>2.282999</td>\n",
       "      <td>1.411426</td>\n",
       "      <td>...</td>\n",
       "      <td>NaN</td>\n",
       "      <td>NaN</td>\n",
       "      <td>NaN</td>\n",
       "      <td>NaN</td>\n",
       "      <td>NaN</td>\n",
       "      <td>NaN</td>\n",
       "      <td>NaN</td>\n",
       "      <td>2.368195</td>\n",
       "      <td>65000</td>\n",
       "      <td>1.0</td>\n",
       "    </tr>\n",
       "    <tr>\n",
       "      <th>967490</th>\n",
       "      <td>35/11-1</td>\n",
       "      <td>1747.993123</td>\n",
       "      <td>535639.50000</td>\n",
       "      <td>6783534.5</td>\n",
       "      <td>-1722.861572</td>\n",
       "      <td>ROGALAND GP.</td>\n",
       "      <td>Vaale Fm.</td>\n",
       "      <td>18.450899</td>\n",
       "      <td>NaN</td>\n",
       "      <td>1.123003</td>\n",
       "      <td>...</td>\n",
       "      <td>NaN</td>\n",
       "      <td>NaN</td>\n",
       "      <td>NaN</td>\n",
       "      <td>-0.020360</td>\n",
       "      <td>NaN</td>\n",
       "      <td>NaN</td>\n",
       "      <td>NaN</td>\n",
       "      <td>NaN</td>\n",
       "      <td>65000</td>\n",
       "      <td>1.0</td>\n",
       "    </tr>\n",
       "    <tr>\n",
       "      <th>500764</th>\n",
       "      <td>30/3-3</td>\n",
       "      <td>1500.814000</td>\n",
       "      <td>497354.37500</td>\n",
       "      <td>6737313.5</td>\n",
       "      <td>-1478.763550</td>\n",
       "      <td>HORDALAND GP.</td>\n",
       "      <td>Utsira Fm.</td>\n",
       "      <td>18.802170</td>\n",
       "      <td>0.768468</td>\n",
       "      <td>0.833208</td>\n",
       "      <td>...</td>\n",
       "      <td>NaN</td>\n",
       "      <td>NaN</td>\n",
       "      <td>NaN</td>\n",
       "      <td>-0.001475</td>\n",
       "      <td>NaN</td>\n",
       "      <td>NaN</td>\n",
       "      <td>NaN</td>\n",
       "      <td>0.770697</td>\n",
       "      <td>65000</td>\n",
       "      <td>2.0</td>\n",
       "    </tr>\n",
       "    <tr>\n",
       "      <th>148037</th>\n",
       "      <td>16/4-1</td>\n",
       "      <td>1627.441604</td>\n",
       "      <td>449952.40625</td>\n",
       "      <td>6500260.5</td>\n",
       "      <td>-1602.124634</td>\n",
       "      <td>HORDALAND GP.</td>\n",
       "      <td>Skade Fm.</td>\n",
       "      <td>16.920383</td>\n",
       "      <td>0.783048</td>\n",
       "      <td>0.764455</td>\n",
       "      <td>...</td>\n",
       "      <td>2.607262</td>\n",
       "      <td>NaN</td>\n",
       "      <td>2.170383</td>\n",
       "      <td>0.011849</td>\n",
       "      <td>0.150981</td>\n",
       "      <td>NaN</td>\n",
       "      <td>NaN</td>\n",
       "      <td>NaN</td>\n",
       "      <td>65000</td>\n",
       "      <td>1.0</td>\n",
       "    </tr>\n",
       "    <tr>\n",
       "      <th>476717</th>\n",
       "      <td>29/6-1</td>\n",
       "      <td>2462.721001</td>\n",
       "      <td>444579.43750</td>\n",
       "      <td>6711930.0</td>\n",
       "      <td>-2437.524902</td>\n",
       "      <td>SHETLAND GP.</td>\n",
       "      <td>Jorsalfare Fm.</td>\n",
       "      <td>18.169743</td>\n",
       "      <td>4.412521</td>\n",
       "      <td>2.773303</td>\n",
       "      <td>...</td>\n",
       "      <td>NaN</td>\n",
       "      <td>NaN</td>\n",
       "      <td>NaN</td>\n",
       "      <td>NaN</td>\n",
       "      <td>NaN</td>\n",
       "      <td>NaN</td>\n",
       "      <td>NaN</td>\n",
       "      <td>4.261722</td>\n",
       "      <td>65000</td>\n",
       "      <td>1.0</td>\n",
       "    </tr>\n",
       "    <tr>\n",
       "      <th>762314</th>\n",
       "      <td>34/10-21</td>\n",
       "      <td>593.290403</td>\n",
       "      <td>454125.59375</td>\n",
       "      <td>6777260.0</td>\n",
       "      <td>-564.252136</td>\n",
       "      <td>NORDLAND GP.</td>\n",
       "      <td>NaN</td>\n",
       "      <td>19.260605</td>\n",
       "      <td>0.136942</td>\n",
       "      <td>NaN</td>\n",
       "      <td>...</td>\n",
       "      <td>NaN</td>\n",
       "      <td>NaN</td>\n",
       "      <td>NaN</td>\n",
       "      <td>-0.527586</td>\n",
       "      <td>NaN</td>\n",
       "      <td>NaN</td>\n",
       "      <td>NaN</td>\n",
       "      <td>0.135123</td>\n",
       "      <td>65000</td>\n",
       "      <td>1.0</td>\n",
       "    </tr>\n",
       "    <tr>\n",
       "      <th>1051401</th>\n",
       "      <td>35/11-7</td>\n",
       "      <td>1893.894000</td>\n",
       "      <td>531920.18750</td>\n",
       "      <td>6766802.5</td>\n",
       "      <td>-1864.826172</td>\n",
       "      <td>VIKING GP.</td>\n",
       "      <td>Sognefjord Fm.</td>\n",
       "      <td>8.505597</td>\n",
       "      <td>1.299584</td>\n",
       "      <td>1.129899</td>\n",
       "      <td>...</td>\n",
       "      <td>NaN</td>\n",
       "      <td>NaN</td>\n",
       "      <td>NaN</td>\n",
       "      <td>0.028071</td>\n",
       "      <td>NaN</td>\n",
       "      <td>NaN</td>\n",
       "      <td>NaN</td>\n",
       "      <td>NaN</td>\n",
       "      <td>65000</td>\n",
       "      <td>1.0</td>\n",
       "    </tr>\n",
       "    <tr>\n",
       "      <th>334970</th>\n",
       "      <td>25/5-1</td>\n",
       "      <td>986.168000</td>\n",
       "      <td>475846.43750</td>\n",
       "      <td>6621550.0</td>\n",
       "      <td>-961.145447</td>\n",
       "      <td>HORDALAND GP.</td>\n",
       "      <td>Skade Fm.</td>\n",
       "      <td>17.811390</td>\n",
       "      <td>NaN</td>\n",
       "      <td>0.579107</td>\n",
       "      <td>...</td>\n",
       "      <td>1.028912</td>\n",
       "      <td>NaN</td>\n",
       "      <td>NaN</td>\n",
       "      <td>-0.035807</td>\n",
       "      <td>0.130611</td>\n",
       "      <td>NaN</td>\n",
       "      <td>NaN</td>\n",
       "      <td>NaN</td>\n",
       "      <td>30000</td>\n",
       "      <td>1.0</td>\n",
       "    </tr>\n",
       "  </tbody>\n",
       "</table>\n",
       "<p>10 rows × 29 columns</p>\n",
       "</div>"
      ],
      "text/plain": [
       "              WELL     DEPTH_MD         X_LOC      Y_LOC        Z_LOC  \\\n",
       "555305   31/2-19 S  2698.102400  519579.28125  6753284.5 -2457.643555   \n",
       "868964      34/2-4  3682.593436  482053.93750  6847156.0 -3648.908936   \n",
       "475012      29/6-1  2203.561001  444579.56250  6711930.0 -2178.372559   \n",
       "967490     35/11-1  1747.993123  535639.50000  6783534.5 -1722.861572   \n",
       "500764      30/3-3  1500.814000  497354.37500  6737313.5 -1478.763550   \n",
       "148037      16/4-1  1627.441604  449952.40625  6500260.5 -1602.124634   \n",
       "476717      29/6-1  2462.721001  444579.43750  6711930.0 -2437.524902   \n",
       "762314    34/10-21   593.290403  454125.59375  6777260.0  -564.252136   \n",
       "1051401    35/11-7  1893.894000  531920.18750  6766802.5 -1864.826172   \n",
       "334970      25/5-1   986.168000  475846.43750  6621550.0  -961.145447   \n",
       "\n",
       "                 GROUP       FORMATION       CALI      RSHA      RMED  ...  \\\n",
       "555305      VIKING GP.     Draupne Fm.  12.739751  0.847380  3.625161  ...   \n",
       "868964      DUNLIN GP.       Drake Fm.   9.391000  4.524775  3.680643  ...   \n",
       "475012    ROGALAND GP.       Lista Fm.  17.369965  2.282999  1.411426  ...   \n",
       "967490    ROGALAND GP.       Vaale Fm.  18.450899       NaN  1.123003  ...   \n",
       "500764   HORDALAND GP.      Utsira Fm.  18.802170  0.768468  0.833208  ...   \n",
       "148037   HORDALAND GP.       Skade Fm.  16.920383  0.783048  0.764455  ...   \n",
       "476717    SHETLAND GP.  Jorsalfare Fm.  18.169743  4.412521  2.773303  ...   \n",
       "762314    NORDLAND GP.             NaN  19.260605  0.136942       NaN  ...   \n",
       "1051401     VIKING GP.  Sognefjord Fm.   8.505597  1.299584  1.129899  ...   \n",
       "334970   HORDALAND GP.       Skade Fm.  17.811390       NaN  0.579107  ...   \n",
       "\n",
       "              ROP         DTS      DCAL      DRHO  MUDWEIGHT      RMIC  ROPA  \\\n",
       "555305        NaN  205.513138  0.489751 -0.011968        NaN  0.622637   NaN   \n",
       "868964        NaN         NaN       NaN -0.023005        NaN       NaN   NaN   \n",
       "475012        NaN         NaN       NaN       NaN        NaN       NaN   NaN   \n",
       "967490        NaN         NaN       NaN -0.020360        NaN       NaN   NaN   \n",
       "500764        NaN         NaN       NaN -0.001475        NaN       NaN   NaN   \n",
       "148037   2.607262         NaN  2.170383  0.011849   0.150981       NaN   NaN   \n",
       "476717        NaN         NaN       NaN       NaN        NaN       NaN   NaN   \n",
       "762314        NaN         NaN       NaN -0.527586        NaN       NaN   NaN   \n",
       "1051401       NaN         NaN       NaN  0.028071        NaN       NaN   NaN   \n",
       "334970   1.028912         NaN       NaN -0.035807   0.130611       NaN   NaN   \n",
       "\n",
       "              RXO  FORCE_2020_LITHOFACIES_LITHOLOGY  \\\n",
       "555305   0.613732                             65000   \n",
       "868964        NaN                             65000   \n",
       "475012   2.368195                             65000   \n",
       "967490        NaN                             65000   \n",
       "500764   0.770697                             65000   \n",
       "148037        NaN                             65000   \n",
       "476717   4.261722                             65000   \n",
       "762314   0.135123                             65000   \n",
       "1051401       NaN                             65000   \n",
       "334970        NaN                             30000   \n",
       "\n",
       "         FORCE_2020_LITHOFACIES_CONFIDENCE  \n",
       "555305                                 1.0  \n",
       "868964                                 1.0  \n",
       "475012                                 1.0  \n",
       "967490                                 1.0  \n",
       "500764                                 2.0  \n",
       "148037                                 1.0  \n",
       "476717                                 1.0  \n",
       "762314                                 1.0  \n",
       "1051401                                1.0  \n",
       "334970                                 1.0  \n",
       "\n",
       "[10 rows x 29 columns]"
      ]
     },
     "execution_count": 3,
     "metadata": {},
     "output_type": "execute_result"
    }
   ],
   "source": [
    "data.sample(10)"
   ]
  },
  {
   "cell_type": "markdown",
   "metadata": {},
   "source": [
    "### Inspecting available logs and interpretations (from the starter notebook)"
   ]
  },
  {
   "cell_type": "markdown",
   "metadata": {},
   "source": [
    "The data contains the metadata columns\n",
    "* WELL: well name\n",
    "* DEPTH_MD: measured depth\n",
    "* X_LOC: UTM X coordinate \n",
    "* Y_LOC: UTM Y coordinate\n",
    "* Z_LOC: DEPTH\n",
    "* GROUP: NPD lithostratigraphy group\n",
    "* FORMATION: NPD lithostratgraphy formation\n",
    "\n",
    "The data contains the well log curves. For example the following:\n",
    "* BS: Bit Size\n",
    "* CALI: Caliper\n",
    "* RDEP: Deep Resistivity\n",
    "* RHOB: Bulk Density\n",
    "* GR: Raw gamma data\n",
    "* SGR: Spectral Gamma Ray\n",
    "* RMED: Medium Resistivity\n",
    "* ROP: Rate of Penetration\n",
    "* NPHI: Neutron Porosity\n",
    "* PEF: Photoelectric Absorption Factor\n",
    "* RSHA: Shallow Resistivity\n",
    "* DTS: Sonic (Sheer Slowness)\n",
    "* DTC: Sonic (Compressional Slowness)\n",
    "\n",
    "See contest page for full list.\n",
    "\n",
    "as well as the interpretation\n",
    "\n",
    "* FORCE_2020_LITHOFACIES_LITHOLOGY: lithology class label\n",
    "* FORCE_2020_LITHOFACIES_CONFIDENCE: confidence in lithology interpretation (1: high, 2: medium, 3: low)"
   ]
  },
  {
   "cell_type": "markdown",
   "metadata": {},
   "source": [
    "There is a total of 83 wells in the training dataset. The `WELL` column is included so the data can be separated per well. This will be necessary for any \"windowed\" approaches where we use non-local information in the ML features. "
   ]
  },
  {
   "cell_type": "code",
   "execution_count": 4,
   "metadata": {
    "scrolled": true
   },
   "outputs": [],
   "source": [
    "#wells = data['WELL'].unique()"
   ]
  },
  {
   "cell_type": "code",
   "execution_count": 5,
   "metadata": {},
   "outputs": [],
   "source": [
    "#wells"
   ]
  },
  {
   "cell_type": "code",
   "execution_count": 6,
   "metadata": {},
   "outputs": [],
   "source": [
    "#len(wells)"
   ]
  },
  {
   "cell_type": "markdown",
   "metadata": {},
   "source": [
    "### Missing logs (from the starter notebook)"
   ]
  },
  {
   "cell_type": "markdown",
   "metadata": {},
   "source": [
    "**Notice that some of the curves are NaN. This is an imporant aspect of this dataset and of this competition.** The only log columns that are **guaranteed** to be present are WELL, DEPT, and GR. All other logs can (and will) be missing from some parts of the dataset."
   ]
  },
  {
   "cell_type": "code",
   "execution_count": 7,
   "metadata": {},
   "outputs": [
    {
     "data": {
      "text/plain": [
       "WELL                                 False\n",
       "DEPTH_MD                             False\n",
       "X_LOC                                 True\n",
       "Y_LOC                                 True\n",
       "Z_LOC                                 True\n",
       "GROUP                                 True\n",
       "FORMATION                             True\n",
       "CALI                                  True\n",
       "RSHA                                  True\n",
       "RMED                                  True\n",
       "RDEP                                  True\n",
       "RHOB                                  True\n",
       "GR                                   False\n",
       "SGR                                   True\n",
       "NPHI                                  True\n",
       "PEF                                   True\n",
       "DTC                                   True\n",
       "SP                                    True\n",
       "BS                                    True\n",
       "ROP                                   True\n",
       "DTS                                   True\n",
       "DCAL                                  True\n",
       "DRHO                                  True\n",
       "MUDWEIGHT                             True\n",
       "RMIC                                  True\n",
       "ROPA                                  True\n",
       "RXO                                   True\n",
       "FORCE_2020_LITHOFACIES_LITHOLOGY     False\n",
       "FORCE_2020_LITHOFACIES_CONFIDENCE     True\n",
       "dtype: bool"
      ]
     },
     "execution_count": 7,
     "metadata": {},
     "output_type": "execute_result"
    }
   ],
   "source": [
    "data.isna().any()"
   ]
  },
  {
   "cell_type": "markdown",
   "metadata": {},
   "source": [
    "The following plot shows how large a percentage of training data wells contain at least some depth interval with the given logs. As you can see a couple of logs like RT and DTS are present in less than half of the training wells. **Remember, the test data will have a similar distribution of available logs**"
   ]
  },
  {
   "cell_type": "code",
   "execution_count": 8,
   "metadata": {},
   "outputs": [
    {
     "data": {
      "text/plain": [
       "Text(0, 0.5, 'Well presence (\\\\%)')"
      ]
     },
     "execution_count": 8,
     "metadata": {},
     "output_type": "execute_result"
    },
    {
     "data": {
      "image/png": "[encoded data removed]",
      "text/plain": [
       "<Figure size 1008x504 with 1 Axes>"
      ]
     },
     "metadata": {
      "needs_background": "light"
     },
     "output_type": "display_data"
    }
   ],
   "source": [
    "occurences = np.zeros(25)\n",
    "for well in data['WELL'].unique():\n",
    "    occurences += data[data['WELL'] == well].isna().all().astype(int).values[2:-2]\n",
    "fig, ax = plt.subplots(1, 1, figsize=(14, 7))\n",
    "ax.bar(x=np.arange(occurences.shape[0]), height=(data.WELL.unique().shape[0]-occurences)/data.WELL.unique().shape[0]*100.0)\n",
    "ax.set_xticklabels(data.columns[2:-2], rotation=45)\n",
    "ax.set_xticks(np.arange(occurences.shape[0]))\n",
    "ax.set_ylabel('Well presence (\\%)')"
   ]
  },
  {
   "cell_type": "markdown",
   "metadata": {},
   "source": [
    "## New visualization"
   ]
  },
  {
   "cell_type": "markdown",
   "metadata": {},
   "source": [
    "### Ineractive visualization of missing logs"
   ]
  },
  {
   "cell_type": "code",
   "execution_count": 9,
   "metadata": {},
   "outputs": [],
   "source": [
    "import ipywidgets as widgets\n",
    "from ipywidgets import interactive, interact"
   ]
  },
  {
   "cell_type": "code",
   "execution_count": 10,
   "metadata": {},
   "outputs": [
    {
     "data": {
      "text/plain": [
       "array(['15/9-13', '15/9-15', '15/9-17', '16/1-2', '16/1-6 A', '16/10-1',\n",
       "       '16/10-2', '16/10-3', '16/10-5', '16/11-1 ST3', '16/2-11 A',\n",
       "       '16/2-16', '16/2-6', '16/4-1', '16/5-3', '16/7-4', '16/7-5',\n",
       "       '16/8-1', '17/11-1', '25/11-15', '25/11-19 S', '25/11-5',\n",
       "       '25/2-13 T4', '25/2-14', '25/2-7', '25/3-1', '25/4-5', '25/5-1',\n",
       "       '25/5-4', '25/6-1', '25/6-2', '25/6-3', '25/7-2', '25/8-5 S',\n",
       "       '25/8-7', '25/9-1', '26/4-1', '29/6-1', '30/3-3', '30/3-5 S',\n",
       "       '30/6-5', '31/2-1', '31/2-19 S', '31/2-7', '31/2-8', '31/2-9',\n",
       "       '31/3-1', '31/3-2', '31/3-3', '31/3-4', '31/4-10', '31/4-5',\n",
       "       '31/5-4 S', '31/6-5', '31/6-8', '32/2-1', '33/5-2', '33/6-3 S',\n",
       "       '33/9-1', '33/9-17', '34/10-19', '34/10-21', '34/10-33',\n",
       "       '34/10-35', '34/11-1', '34/11-2 S', '34/12-1', '34/2-4',\n",
       "       '34/3-1 A', '34/4-10 R', '34/5-1 A', '34/5-1 S', '34/7-13',\n",
       "       '34/7-20', '34/7-21', '34/8-1', '34/8-3', '34/8-7 R', '35/11-1',\n",
       "       '35/11-10', '35/11-11', '35/11-12', '35/11-13', '35/11-15 S',\n",
       "       '35/11-6', '35/11-7', '35/12-1', '35/3-7 S', '35/4-1', '35/8-4',\n",
       "       '35/8-6 S', '35/9-10 S', '35/9-2', '35/9-5', '35/9-6 S', '36/7-3',\n",
       "       '7/1-1', '7/1-2 S'], dtype=object)"
      ]
     },
     "execution_count": 10,
     "metadata": {},
     "output_type": "execute_result"
    }
   ],
   "source": [
    "wells = data['WELL'].unique()\n",
    "wells"
   ]
  },
  {
   "cell_type": "markdown",
   "metadata": {},
   "source": [
    "Using the `@interact` decorator we can get a quick way to choose a single well and inspect its data on the fly by just ttyping the well name:"
   ]
  },
  {
   "cell_type": "code",
   "execution_count": 11,
   "metadata": {
    "scrolled": true
   },
   "outputs": [
    {
     "data": {
      "application/vnd.jupyter.widget-view+json": {
       "model_id": "b385e40d3c374b24945f95d8e4aea8ba",
       "version_major": 2,
       "version_minor": 0
      },
      "text/plain": [
       "interactive(children=(Text(value='', description='WELL'), Output()), _dom_classes=('widget-interact',))"
      ]
     },
     "metadata": {},
     "output_type": "display_data"
    }
   ],
   "source": [
    "@interact\n",
    "def data_well_view(WELL=''):\n",
    "    return data[data['WELL']==WELL]"
   ]
  },
  {
   "cell_type": "markdown",
   "metadata": {},
   "source": [
    "With `interactive` and a similar logic (`data['WELL'].unique()`) we can, on the other hand, check the selected well's curves completeness, again on the fly.\n",
    "\n",
    "I am using the library `missingno` to make the visual summary plot.\n",
    "\n",
    "As explained in the library's documentation, the sparkline at the right of the plot summarizes the general shape of the data completeness and points out the rows with the maximum and minimum nullity in the dataset. \n",
    "\n",
    "This to me is a much more compelling and informative way to inspect the data as it shows the data range where data is missing.\n",
    "\n",
    "The plot height is proportional to the well length (in rows), which is also annotated on the bottom left."
   ]
  },
  {
   "cell_type": "code",
   "execution_count": 12,
   "metadata": {},
   "outputs": [],
   "source": [
    "well_items = data['WELL'].unique()"
   ]
  },
  {
   "cell_type": "code",
   "execution_count": 13,
   "metadata": {},
   "outputs": [
    {
     "data": {
      "application/vnd.jupyter.widget-view+json": {
       "model_id": "2e80703266cf49ce861f7644f25a5eeb",
       "version_major": 2,
       "version_minor": 0
      },
      "text/plain": [
       "interactive(children=(Select(description='WELL', options=('15/9-13', '15/9-15', '15/9-17', '16/1-2', '16/1-6 A…"
      ]
     },
     "metadata": {},
     "output_type": "display_data"
    }
   ],
   "source": [
    "def plot_missingno(w):  \n",
    "    msno.matrix(w, color=(0., 0., 0.45))   \n",
    "    fig = plt.gcf()\n",
    "    fig.set_size_inches(20, np.round(len(w)/750)) # plot heigth proportional to selected well's length (in rows)\n",
    "    plt.show()\n",
    "    \n",
    "def data_missingno_view(WELL=''):\n",
    "    return plot_missingno(data.loc[data['WELL']==WELL])\n",
    "\n",
    "well_select = widgets.Select(options=well_items)\n",
    "interactive(data_missingno_view, WELL=well_select)"
   ]
  },
  {
   "cell_type": "markdown",
   "metadata": {},
   "source": [
    "### Ineractive well plotting based on plotting routine from the starter notebook"
   ]
  },
  {
   "cell_type": "markdown",
   "metadata": {},
   "source": [
    "We can reuse the mechanism from above to interactively select a well to plot:"
   ]
  },
  {
   "cell_type": "code",
   "execution_count": 14,
   "metadata": {},
   "outputs": [],
   "source": [
    "def plot_well(w):\n",
    "    fig, axs = plt.subplots(1, len(w.columns)-9, sharey=True)\n",
    "    fig.set_size_inches(20, np.round(len(w)/750))\n",
    "    for ic, col in enumerate(set(w.columns)-set(['DEPTH_MD', 'FORCE_2020_LITHOFACIES_LITHOLOGY',\n",
    "                                                         'FORCE_2020_LITHOFACIES_CONFIDENCE', 'WELL', 'GROUP', 'FORMATION',\n",
    "                                                        'X_LOC', 'Y_LOC', 'Z_LOC'])):\n",
    "        axs[ic].plot(w[col], w['DEPTH_MD'])\n",
    "        axs[ic].set_xlabel(col)\n",
    "    axs[0].set_ylim(w['DEPTH_MD'].values[-1], w['DEPTH_MD'].values[0])\n",
    "    plt.show()"
   ]
  },
  {
   "cell_type": "code",
   "execution_count": 15,
   "metadata": {
    "scrolled": false
   },
   "outputs": [
    {
     "data": {
      "application/vnd.jupyter.widget-view+json": {
       "model_id": "526d7a7cdb2f4c9f8451703c243c289d",
       "version_major": 2,
       "version_minor": 0
      },
      "text/plain": [
       "interactive(children=(Select(description='WELL', options=('15/9-13', '15/9-15', '15/9-17', '16/1-2', '16/1-6 A…"
      ]
     },
     "metadata": {},
     "output_type": "display_data"
    }
   ],
   "source": [
    "def well_plot_view(WELL=''):\n",
    "    return plot_well(data.loc[data['WELL']==WELL])\n",
    "\n",
    "well_select = widgets.Select(options=well_items)\n",
    "interactive(well_plot_view, WELL=well_select)"
   ]
  },
  {
   "cell_type": "markdown",
   "metadata": {},
   "source": [
    "### Ineractive well plotting based on plotting routine from the Cegal notebook\n",
    "\n",
    "To finish up, a very nice plot using the Well Plotter from the [Cegal Tools package](https://github.com/cegaltools/cegaltools) showcased [here](https://nbviewer.jupyter.org/urls/gitlab.com/hilde.tveit.haland/public-notebooks/-/raw/master/Force%202020-%20CegalWells%20EDA.ipynb):"
   ]
  },
  {
   "cell_type": "code",
   "execution_count": 16,
   "metadata": {},
   "outputs": [],
   "source": [
    "from cegaltools.plotting import CegalWellPlotter as cwp"
   ]
  },
  {
   "cell_type": "code",
   "execution_count": 17,
   "metadata": {},
   "outputs": [],
   "source": [
    "data['FORCE_2020_LITHOFACIES_CONFIDENCE'] = 1/data['FORCE_2020_LITHOFACIES_CONFIDENCE']"
   ]
  },
  {
   "cell_type": "code",
   "execution_count": 18,
   "metadata": {},
   "outputs": [],
   "source": [
    "def plot_well_cegal(w):\n",
    "    cwp.plot_logs(df=w.set_index('DEPTH_MD'),\n",
    "                  logs=['GROUP','FORMATION', 'RHOB', 'GR', 'NPHI', 'DTC', 'DTS'], \n",
    "                  log_scale_logs=['RMED', 'RDEP'],\n",
    "                  lithology_logs='FORCE_2020_LITHOFACIES_LITHOLOGY', \n",
    "                  lithology_proba_logs='FORCE_2020_LITHOFACIES_CONFIDENCE')"
   ]
  },
  {
   "cell_type": "code",
   "execution_count": 19,
   "metadata": {},
   "outputs": [
    {
     "data": {
      "application/vnd.jupyter.widget-view+json": {
       "model_id": "c5810bddb3c248bcae60a3728010585c",
       "version_major": 2,
       "version_minor": 0
      },
      "text/plain": [
       "interactive(children=(Select(description='WELL', options=('15/9-13', '15/9-15', '15/9-17', '16/1-2', '16/1-6 A…"
      ]
     },
     "metadata": {},
     "output_type": "display_data"
    }
   ],
   "source": [
    "def well_plot_cegal_view(WELL=''):\n",
    "    return plot_well_cegal(data.loc[data['WELL']==WELL])\n",
    "\n",
    "well_select = widgets.Select(options=well_items)\n",
    "interactive(well_plot_cegal_view, WELL=well_select)"
   ]
  }
 ],
 "metadata": {
  "kernelspec": {
   "display_name": "Python 3",
   "language": "python",
   "name": "python3"
  },
  "language_info": {
   "codemirror_mode": {
    "name": "ipython",
    "version": 3
   },
   "file_extension": ".py",
   "mimetype": "text/x-python",
   "name": "python",
   "nbconvert_exporter": "python",
   "pygments_lexer": "ipython3",
   "version": "3.7.7"
  }
 },
 "nbformat": 4,
 "nbformat_minor": 4
}
